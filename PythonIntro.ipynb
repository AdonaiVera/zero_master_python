{
 "cells": [
  {
   "cell_type": "markdown",
   "metadata": {},
   "source": [
    "# Introducción a la Programación en Python 3\n",
    "Modificado por: __[Adonai Vera](https://www.linkedin.com/in/adonai-vera/)__<br>\n",
    "Creado por: __[Hans van der Kwast](http://www.linkedin.com/in/jvdkwast)__<br>\n",
    "\n",
    "## Contenidos\n",
    "### __[Lección 1: Programas Muy Simples](PythonIntroCh1.ipynb)__\n",
    "### __[Lección 2: Programas en un archivo, variables y cadenas](PythonIntroCh2.ipynb)__\n",
    "### __[Lección 3: Bucles, Bucles, Bucles, Bucles...](PythonIntroCh3.ipynb)__\n",
    "### __[Lección 4: Funciones](PythonIntroCh4.ipynb)__\n",
    "### __[Lección 5: Tuplas, Listas y Diccionarios](PythonIntroCh5.ipynb)__\n",
    "### __[Lección 6: Bucle For](PythonIntroCh6.ipynb)__\n",
    "### __[Lección 7: Clases](PythonIntroCh7.ipynb)__\n",
    "### __[Lección 8: Módulos](PythonIntroCh8.ipynb)__\n",
    "### __[Lección 9: Entrada/Salida de Archivos](PythonIntroCh9.ipynb)__\n",
    "### __[Lección 10: Manejo de Excepciones](PythonIntroCh10.ipynb)__\n",
    "<br>\n",
    "<br>\n",
    "\n",
    "*Este Cuaderno Jupyter ha sido desarrollado basándose en \"Tutorial de Python para Principiantes\" por Steven Thurlow. El __[material original](https://github.com/stoive/pythontutorial)__ ha sido adaptado a Python 3.*\n",
    "\n",
    "*Este trabajo está licenciado bajo la Licencia Creative Commons Atribución 2.5 Australia. Para ver una copia de esta licencia, visite http://creativecommons.org/licenses/by/2.5/au/ o envíe una carta a Creative Commons, 444 Castro Street, Suite 900, Mountain View, California, 94041, USA.*"
   ]
  },
  {
   "cell_type": "markdown",
   "metadata": {},
   "source": []
  }
 ],
 "metadata": {
  "kernelspec": {
   "display_name": "Python 3",
   "language": "python",
   "name": "python3"
  },
  "language_info": {
   "codemirror_mode": {
    "name": "ipython",
    "version": 3
   },
   "file_extension": ".py",
   "mimetype": "text/x-python",
   "name": "python",
   "nbconvert_exporter": "python",
   "pygments_lexer": "ipython3",
   "version": "3.6.5"
  }
 },
 "nbformat": 4,
 "nbformat_minor": 2
}
